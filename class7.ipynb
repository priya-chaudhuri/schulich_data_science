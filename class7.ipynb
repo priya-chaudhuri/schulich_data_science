{
 "cells": [
  {
   "cell_type": "code",
   "execution_count": null,
   "metadata": {},
   "outputs": [],
   "source": [
    "pip install statsmodels"
   ]
  },
  {
   "cell_type": "code",
   "execution_count": null,
   "metadata": {},
   "outputs": [],
   "source": [
    "pip install scikit-learn"
   ]
  },
  {
   "cell_type": "markdown",
   "metadata": {},
   "source": [
    "## Linear Regression only "
   ]
  },
  {
   "cell_type": "code",
   "execution_count": null,
   "metadata": {},
   "outputs": [],
   "source": [
    "import pandas as pd\n",
    "import numpy as np\n",
    "from statsmodels.formula.api import ols\n",
    "from sklearn.linear_model import LinearRegression\n",
    "from sklearn.metrics import r2_score, mean_squared_error\n",
    "from sklearn.model_selection import train_test_split"
   ]
  },
  {
   "cell_type": "code",
   "execution_count": null,
   "metadata": {},
   "outputs": [],
   "source": [
    "bikes = pd.read_csv('https://raw.githubusercontent.com/delinai/schulich_ds1/main/Datasets/bikes_sharing.csv')"
   ]
  },
  {
   "cell_type": "code",
   "execution_count": null,
   "metadata": {},
   "outputs": [],
   "source": [
    "bikes.head()"
   ]
  },
  {
   "cell_type": "code",
   "execution_count": null,
   "metadata": {},
   "outputs": [],
   "source": [
    "bikes.describe()"
   ]
  },
  {
   "cell_type": "code",
   "execution_count": null,
   "metadata": {},
   "outputs": [],
   "source": [
    "# feature engineering\n",
    "# create daily version of data set\n",
    "# convert the datetime column into a datetime data type\n",
    "bikes.info()"
   ]
  },
  {
   "cell_type": "code",
   "execution_count": null,
   "metadata": {},
   "outputs": [],
   "source": [
    "# with the pd.to_datetime() function we can make the change\n",
    "bikes['datetime'] = pd.to_datetime(bikes['datetime'])"
   ]
  },
  {
   "cell_type": "code",
   "execution_count": null,
   "metadata": {},
   "outputs": [],
   "source": [
    "bikes.info()"
   ]
  },
  {
   "cell_type": "code",
   "execution_count": null,
   "metadata": {},
   "outputs": [],
   "source": [
    "# set the datetime as index\n",
    "\n",
    "bikes_daily = bikes.set_index('datetime')\n"
   ]
  },
  {
   "cell_type": "code",
   "execution_count": null,
   "metadata": {},
   "outputs": [],
   "source": [
    "# D is for Daily\n",
    "bikes_daily = bikes_daily.resample('D').aggregate({'season':'max', 'holiday':'max','workingday':'max', 'weather':'max',\\\n",
    "                                                   'temp':'mean', 'atemp':'mean', 'humidity':'mean', 'windspeed':'mean',\\\n",
    "                                                    'casual':'sum', 'registered':'sum', 'count':'sum'})\n",
    "# one row per day\n",
    "bikes_daily"
   ]
  },
  {
   "cell_type": "code",
   "execution_count": null,
   "metadata": {},
   "outputs": [],
   "source": [
    "# isoldate the hour of the day\n",
    "bikes['hour'] = bikes['datetime'].apply(lambda x: x.hour)\n",
    "bikes.head()"
   ]
  },
  {
   "cell_type": "code",
   "execution_count": null,
   "metadata": {},
   "outputs": [],
   "source": [
    "def time_of_day(x):\n",
    "    if x >= 6 and x <= 9:\n",
    "        return 'morning_commute'\n",
    "    elif x > 9 and x <= 15:\n",
    "        return 'midday'\n",
    "    elif x > 15 and x <= 19:\n",
    "        return 'evening_commute'\n",
    "    else:\n",
    "        return 'afterhours'"
   ]
  },
  {
   "cell_type": "code",
   "execution_count": null,
   "metadata": {},
   "outputs": [],
   "source": [
    "bikes['time_of_day'] = bikes['hour'].apply(time_of_day)\n",
    "bikes.head()"
   ]
  },
  {
   "cell_type": "code",
   "execution_count": null,
   "metadata": {},
   "outputs": [],
   "source": [
    "# isoldate the weekday of the day\n",
    "bikes['weekday'] = bikes['datetime'].apply(lambda x: x.weekday())\n",
    "bikes.head()"
   ]
  },
  {
   "cell_type": "code",
   "execution_count": null,
   "metadata": {},
   "outputs": [],
   "source": [
    "import seaborn as sns\n",
    "import matplotlib.pyplot as plt"
   ]
  },
  {
   "cell_type": "code",
   "execution_count": null,
   "metadata": {},
   "outputs": [],
   "source": [
    "# evaluate weekday vs number of casual or registered or total rentals\n",
    "fig, (ax1, ax2, ax3) = plt.subplots(1,3, figsize = (10,5), sharey=True)\n",
    "sns.boxplot(x='weekday', y='casual', data=bikes, ax=ax1, palette = 'tab10')\n",
    "sns.boxplot(x='weekday', y='registered', data=bikes, ax=ax2, palette = 'tab10')\n",
    "sns.boxplot(x='weekday', y='count', data=bikes, ax=ax3, palette = 'tab10')\n",
    "\n",
    "# good for casual\n",
    "# not good for count or registered"
   ]
  },
  {
   "cell_type": "code",
   "execution_count": null,
   "metadata": {},
   "outputs": [],
   "source": [
    "# evaluate time_of_day vs number of casual or registered or total rentals\n",
    "fig, (ax1, ax2, ax3) = plt.subplots(1,3, figsize = (10,5), sharey=True)\n",
    "sns.boxplot(x='time_of_day', y='casual', data=bikes, ax=ax1, palette='tab10')\n",
    "sns.boxplot(x='time_of_day', y='registered', data=bikes, ax=ax2, palette='tab10')\n",
    "sns.boxplot(x='time_of_day', y='count', data=bikes, ax=ax3, palette='tab10')\n",
    "\n",
    "ax2.set_ylabel('registered')\n",
    "ax3.set_ylabel('count')\n",
    "\n",
    "# good for casual, registered and count"
   ]
  },
  {
   "cell_type": "code",
   "execution_count": null,
   "metadata": {},
   "outputs": [],
   "source": [
    "bikes[bikes['time_of_day']=='evening_commute']['casual'].describe()"
   ]
  },
  {
   "cell_type": "code",
   "execution_count": null,
   "metadata": {},
   "outputs": [],
   "source": [
    "# evaluate weekday & time_of_day vs number of casual or registered or total rentals\n",
    "fig, (ax1, ax2, ax3) = plt.subplots(1,3, figsize = (25,10), sharey=True)\n",
    "sns.boxplot(x='weekday', y='casual', hue='time_of_day',data=bikes, ax=ax1, palette='tab10')\n",
    "sns.boxplot(x='weekday', y='registered', hue='time_of_day',data=bikes, ax=ax2, palette='tab10')\n",
    "sns.boxplot(x='weekday', y='count', hue='time_of_day',data=bikes, ax=ax3, palette='tab10')"
   ]
  },
  {
   "cell_type": "code",
   "execution_count": null,
   "metadata": {},
   "outputs": [],
   "source": [
    "# lets look at Temperature vs. Rental Counts\n",
    "# evaluate weekday & time_of_day vs number of casual or registered or total rentals\n",
    "fig, (ax1, ax2, ax3) = plt.subplots(1,3, figsize = (25,10), sharey=True)\n",
    "sns.scatterplot(x='temp', y='casual', data=bikes, ax=ax1, palette='tab10')\n",
    "sns.scatterplot(x='temp', y='registered', data=bikes, ax=ax2, palette='tab10')\n",
    "sns.scatterplot(x='temp', y='count', data=bikes, ax=ax3, palette='tab10')"
   ]
  },
  {
   "cell_type": "code",
   "execution_count": null,
   "metadata": {},
   "outputs": [],
   "source": [
    "# lets look at Temperature vs. Rental Counts\n",
    "# evaluate weekday & time_of_day vs number of casual or registered or total rentals\n",
    "fig, (ax1, ax2, ax3) = plt.subplots(1,3, figsize = (25,10), sharey=True)\n",
    "sns.scatterplot(x='temp', y='casual', hue='weekday',data=bikes, ax=ax1, palette='tab10')\n",
    "sns.scatterplot(x='temp', y='registered', hue='weekday', data=bikes, ax=ax2, palette='tab10')\n",
    "sns.scatterplot(x='temp', y='count', hue='weekday', data=bikes, ax=ax3, palette='tab10')"
   ]
  },
  {
   "cell_type": "code",
   "execution_count": null,
   "metadata": {},
   "outputs": [],
   "source": [
    "fig, (ax1, ax2, ax3) = plt.subplots(1,3, figsize = (25,10), sharey=False)\n",
    "sns.scatterplot(x='temp', y='casual', hue='weekday',data=bikes, ax=ax1, palette='tab10')\n",
    "sns.scatterplot(x='temp', y='registered', hue='weekday', data=bikes, ax=ax2, palette='tab10')\n",
    "sns.scatterplot(x='temp', y='count', hue='weekday', data=bikes, ax=ax3, palette='tab10')"
   ]
  },
  {
   "cell_type": "code",
   "execution_count": null,
   "metadata": {},
   "outputs": [],
   "source": [
    "# temp, weekday, time of day\n",
    "# for categorical , they need to be converted to a dummy variable\n",
    "# get_dummies()\n",
    "\n",
    "model_data = pd.get_dummies(data = bikes[['casual','temp','weekday','time_of_day']], columns=['weekday','time_of_day'], dtype=int)"
   ]
  },
  {
   "cell_type": "code",
   "execution_count": null,
   "metadata": {},
   "outputs": [],
   "source": [
    "model_data.columns"
   ]
  },
  {
   "cell_type": "code",
   "execution_count": null,
   "metadata": {},
   "outputs": [],
   "source": [
    "# n -1 dummies - if it has 7 categories include only 6\n",
    "# hence we delete monday and after_hours\n",
    "\n",
    "model = ols(\"casual ~ temp +  weekday_1 + weekday_2 + weekday_3 + \\\n",
    "       weekday_4 + weekday_5 + weekday_6  + \\\n",
    "            time_of_day_evening_commute + time_of_day_midday + time_of_day_morning_commute\", data=model_data).fit()"
   ]
  },
  {
   "cell_type": "code",
   "execution_count": null,
   "metadata": {},
   "outputs": [],
   "source": [
    "print(model.summary())\n",
    "# r Squared value - goodness of the model - have we selected the right combination of variable - variability in output\n",
    "# adj r squared is lower than your  rswuare then u ahev added a bad variable to your model\n",
    "\n",
    "# y = mx+b\n",
    "# ---- y = -41.3638 + 2.48tep - 7.22weekday1 - 6.5839weekday2 .....\n",
    "# for tuesday we will have 7.22 lesser bikes and so on\n",
    "\n",
    "# p value - stat significance <.05 -- normally disctrubuted - t tests - if p value hight - maybe not normal dist\n",
    "# we dont remove anything - ???\n",
    "# if u add more variables - model gets diluted\n"
   ]
  },
  {
   "cell_type": "code",
   "execution_count": null,
   "metadata": {},
   "outputs": [],
   "source": [
    "# make predictions\n",
    "\n",
    "model_data.head()"
   ]
  },
  {
   "cell_type": "code",
   "execution_count": null,
   "metadata": {},
   "outputs": [],
   "source": [
    "predictions = model.predict(model_data.iloc[:,1:])\n",
    "predictions"
   ]
  },
  {
   "cell_type": "code",
   "execution_count": null,
   "metadata": {},
   "outputs": [],
   "source": [
    "model.params"
   ]
  },
  {
   "cell_type": "code",
   "execution_count": null,
   "metadata": {},
   "outputs": [],
   "source": [
    "#residual analysis\n",
    "model_data.head()"
   ]
  },
  {
   "cell_type": "code",
   "execution_count": null,
   "metadata": {},
   "outputs": [],
   "source": [
    "final_data = pd.concat([model_data, predictions], axis=1)"
   ]
  },
  {
   "cell_type": "code",
   "execution_count": null,
   "metadata": {},
   "outputs": [],
   "source": [
    "final_data.rename(columns={0:'predictions'}, inplace=True)"
   ]
  },
  {
   "cell_type": "code",
   "execution_count": null,
   "metadata": {},
   "outputs": [],
   "source": [
    "final_data['residuals'] = final_data['predictions'] - final_data['casual']"
   ]
  },
  {
   "cell_type": "code",
   "execution_count": null,
   "metadata": {},
   "outputs": [],
   "source": [
    "# predicted vs residuls \n",
    "sns.scatterplot(x='predictions', y='residuals', data=final_data)\n",
    "\n",
    "# we want to see a parallel pattern\n",
    "\n",
    "# on days we predicted 100 -- it was like 350 or something"
   ]
  },
  {
   "cell_type": "code",
   "execution_count": null,
   "metadata": {},
   "outputs": [],
   "source": [
    "# check for normal distribution of residuals\n",
    "sns.histplot(final_data['residuals'])\n",
    "\n",
    "# ---???\n",
    "\n",
    "# linear regression - biases not flexible, cannot be tuned"
   ]
  },
  {
   "cell_type": "code",
   "execution_count": null,
   "metadata": {},
   "outputs": [],
   "source": [
    "# influence plots\n",
    "import statsmodels.api as sm"
   ]
  },
  {
   "cell_type": "code",
   "execution_count": null,
   "metadata": {},
   "outputs": [],
   "source": [
    "sm.graphics.influence_plot(model, criterion = 'cooks')\n",
    "\n",
    "# takes 20 mins to run."
   ]
  },
  {
   "cell_type": "code",
   "execution_count": null,
   "metadata": {},
   "outputs": [],
   "source": [
    "np.mean(np.sqrt(final_data['residuals']**2))"
   ]
  },
  {
   "cell_type": "code",
   "execution_count": null,
   "metadata": {},
   "outputs": [],
   "source": [
    "np.mean(final_data.casual)"
   ]
  },
  {
   "cell_type": "code",
   "execution_count": null,
   "metadata": {},
   "outputs": [],
   "source": [
    "24/36"
   ]
  },
  {
   "cell_type": "code",
   "execution_count": null,
   "metadata": {},
   "outputs": [],
   "source": []
  }
 ],
 "metadata": {
  "kernelspec": {
   "display_name": "Python 3",
   "language": "python",
   "name": "python3"
  },
  "language_info": {
   "codemirror_mode": {
    "name": "ipython",
    "version": 3
   },
   "file_extension": ".py",
   "mimetype": "text/x-python",
   "name": "python",
   "nbconvert_exporter": "python",
   "pygments_lexer": "ipython3",
   "version": "3.9.6"
  }
 },
 "nbformat": 4,
 "nbformat_minor": 2
}
